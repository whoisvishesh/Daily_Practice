{
 "cells": [
  {
   "cell_type": "code",
   "execution_count": null,
   "id": "ecb7d893",
   "metadata": {},
   "outputs": [],
   "source": [
    "'''Given a sorted array of size N and an integer K, find the position at which K is present \n",
    "in the array using binary search.\n",
    "\n",
    "You dont need to read input or print anything. Complete the function binarysearch() which takes \n",
    "arr[], N and K as input parameters and returns the index of K in the array. \n",
    "If K is not present in the array, return -1.'''\n",
    "\n",
    "#User function template for Python\n",
    "\n",
    "class Solution:\t\n",
    "\tdef binarysearch(self, arr, n, k):\n",
    "\t\t# code here;\n",
    "\t\tcount = 0\n",
    "\t\tfor i in range (0,n):\n",
    "\t\t    if arr[i] == k:\n",
    "\t\t        count = count + i\n",
    "\t\t        break\n",
    "\t\t\n",
    "\t\tif count > 0:\n",
    "\t\t    return count\n",
    "\t\telse:\n",
    "\t\t    return -1\n",
    "\n",
    "\n",
    "#{ \n",
    " # Driver Code Starts\n",
    "#Initial template for Python\n",
    "\n",
    "if __name__ == '__main__':\n",
    "    t=int(input())\n",
    "    for i in range(t):\n",
    "        n=int(input())\n",
    "        arr=list(map(int, input().strip().split(' ')))\n",
    "        k=int(input())\n",
    "        ob = Solution()\n",
    "        print (ob.binarysearch(arr, n, k))\n",
    "\n",
    "\n",
    "# } Driver Code Ends"
   ]
  }
 ],
 "metadata": {
  "kernelspec": {
   "display_name": "Python 3 (ipykernel)",
   "language": "python",
   "name": "python3"
  },
  "language_info": {
   "codemirror_mode": {
    "name": "ipython",
    "version": 3
   },
   "file_extension": ".py",
   "mimetype": "text/x-python",
   "name": "python",
   "nbconvert_exporter": "python",
   "pygments_lexer": "ipython3",
   "version": "3.9.12"
  }
 },
 "nbformat": 4,
 "nbformat_minor": 5
}
